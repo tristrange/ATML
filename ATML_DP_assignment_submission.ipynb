{
  "cells": [
    {
      "cell_type": "markdown",
      "metadata": {
        "id": "0gptEv_UkLPf"
      },
      "source": [
        "# Code template for hand-in on reconstruction attacks.\n",
        "\n",
        "Advanced Topics in Machine Learning, U. Copenhagen, fall 2025\n",
        "\n",
        "Created by Rasmus Pagh with minor edits by Thomas Christensen\n",
        "\n",
        "Queries on a hidden dataset x from {-1,+1}^256 can be made via the query method below\n",
        "which calls a web API that allows dot product queries with vectors in {-1,+1}^256.\n",
        "To protect data, Laplace noise is added to responses. Using the techniques you have\n",
        "seen in the lecture it is possible to partially reconstruct the dataset using 512 queries.\n",
        "To make sure that you get a unique challenge, choose any unique string as your challenge\n",
        "identifier. The web API will keep track of the number of queries made for each identifier.\n"
      ]
    },
    {
      "cell_type": "markdown",
      "metadata": {
        "id": "dyLpL0gdnquz"
      },
      "source": [
        "# Support function for querying the web API\n"
      ]
    },
    {
      "cell_type": "code",
      "execution_count": 23,
      "metadata": {
        "id": "L1Mb8xGZkTPO"
      },
      "outputs": [],
      "source": [
        "import numpy as np\n",
        "import requests as rq\n",
        "\n",
        "# Retrieve answer to challenge for a given query\n",
        "def query(challenge_id, query_vector, submit=False):\n",
        "    # Only alphanumeric challenge_id and vector entries in {-1,+1} are allowed:\n",
        "    assert(challenge_id.isalnum())\n",
        "    assert(np.max(np.minimum(np.abs(query_vector-1),np.abs(query_vector+1)))==0)\n",
        "\n",
        "    # if query array is 1d, make it 2d\n",
        "    if query_vector.ndim == 1:\n",
        "        query_vector = query_vector.reshape(1,-1)\n",
        "\n",
        "    payload = { 'challengeid': challenge_id, 'submit': submit,\n",
        "                'query': str(query_vector.tolist()) }\n",
        "    response = rq.post(\"https://rasmuspagh.pythonanywhere.com/query\", data = payload).json()\n",
        "    if submit == False:\n",
        "        return np.array(eval(response['result']))\n",
        "    else:\n",
        "        return response['result']"
      ]
    },
    {
      "cell_type": "markdown",
      "metadata": {
        "id": "mgh9MtPmnyEl"
      },
      "source": [
        "# Making random queries to the API\n"
      ]
    },
    {
      "cell_type": "code",
      "execution_count": 24,
      "metadata": {},
      "outputs": [
        {
          "name": "stdout",
          "output_type": "stream",
          "text": [
            "[  0.   42.5  31.5 -20.   25.  -36.5  16.5  20.5  54.5  17.  -21.    3.5\n",
            "  -8.  -32.  -26.   24.  -12.  -47.  -13.  -16.   46.5 -19.5 -40.   -2.\n",
            " -12.   27.5 -41.5 -47.   14.    7.5  20.5  20.  -33.5 -15.  -14.   -8.\n",
            "  -4.    7.   19.  -15.   -5.   16.   15.5  16.  -24.   27.   33.   14.\n",
            " -12.  -10.5   7.5 -13.5  48.  -33.5 -10.   32.5 -21.5  11.5  32.   -5.5\n",
            " -24.  -13.   52.  -16.   13.  -26.   39.5 -22.5 -11.5   3.5 -53.5 -11.\n",
            "  -2.5  24.5  -6.  -31.5 -36.5  18.5  27.5 -19.5   7.5  -9.5  -7.  -12.\n",
            "  14.5  21.   -7.  -30.   -4.  -24.5  -4.5  16.5  13.   -8.  -22.  -13.\n",
            " -11.5  10.  -14.   17.  -46.5  16.5 -14.5   8.5  34.    7.  -25.   42.5\n",
            "  26.5  -8.    8.  -35.   10.   35.  -19.5  -7.   -3.  -19.  -16.5 -15.5\n",
            " -16.5 -10.   45.  -41.5  -4.  -14.    5.   -1.5  11.   -1.5 -17.5  22.\n",
            " -11.5  39.    9.5  49.5   2.    8.   38.5  16.5 -40.5  14.    6.5  22.5\n",
            "  27.  -14.5 -18.   36.   38.  -18.  -14.5  -8.5  16.   -9.5   8.    2.\n",
            " -15.   10.  -27.   30.5  -2.  -24.5 -19.5 -28.   -5.   18.   11.   -2.\n",
            "  30.  -15.   23.   -5.   47.5  35.5   5.   26.5  14.5 -47.    5.5 -30.5\n",
            "   7.5 -18.   -1.5 -37.5  47.    0.5  -8.5   6.   18.5   3.5  -5.   -4.\n",
            " -28.   -5.    5.5  -7.5  18.   -2.5   2.5 -14.  -10.5   5.5  32.    1.5\n",
            "  -1.5  -5.5   5.5 -12.  -30.    6.5 -28.   42.5  44.5   3.5 -12.5  -2.\n",
            " -21.5  10.5  -3.5  33.5 -25.5  -8.5  22.5  28.   19.5 -23.5 -14.  -27.5\n",
            " -22.5  -7.  -12.5  -6.   13.  -12.  -28.   21.5 -21.5 -15.5 -33.5  20.5\n",
            " -17.  -22.  -14.   -6.  -23.   12.   12.    6.5  23.5 -18.    9.   -7.5\n",
            " -12.    3.5 -14.5 -53. ]\n"
          ]
        }
      ],
      "source": [
        "from scipy.linalg import hadamard\n",
        "\n",
        "challenge_id = 'GodOfWar5' # identifier for hidden dataset\n",
        "n = 256 # number of entries in hidden dataset\n",
        "assert (n & (n - 1)) == 0, \"n must be a power of two for Hadamard.\"\n",
        "\n",
        "H = hadamard(n).astype(int)\n",
        "\n",
        "repeats = 2 # 2 repeats × 256 rows = 512 total\n",
        "queries = np.vstack([H for _ in range(repeats)]) # shape (512, 256)\n",
        "answers = query(challenge_id, queries, submit=False) # shape (512,)\n",
        "answers_avg = (answers[:n] + answers[n:]) / 2.0 # shape (256,)\n",
        "query_results = answers_avg\n",
        "print(query_results)\n"
      ]
    },
    {
      "cell_type": "markdown",
      "metadata": {
        "id": "uiUoCqxtknZj"
      },
      "source": [
        "# Baseline reconstruction attack: Guess equals the best query\n",
        "\n",
        "Copy the notebook and replace with your attack. The first submission for a given challenge_id is stored on the server and on the leaderboard: http://rasmuspagh.pythonanywhere.com/leaderboard/?n=256\n"
      ]
    },
    {
      "cell_type": "markdown",
      "metadata": {
        "id": "wBzhULS8lfJf"
      },
      "source": [
        "**Tip**: to solve a linear program you can use the following import:\n",
        "\n",
        "```\n",
        "from scipy.optimize import linprog\n",
        "```\n"
      ]
    },
    {
      "cell_type": "code",
      "execution_count": 25,
      "metadata": {
        "colab": {
          "base_uri": "https://localhost:8080/"
        },
        "id": "KNEVYeK5klgu",
        "outputId": "534944e7-71c5-46fe-feaf-2d8a8228ab4e"
      },
      "outputs": [
        {
          "name": "stdout",
          "output_type": "stream",
          "text": [
            "\n",
            "Reconstruction attack achieves fraction 0.8515625 correct values\n"
          ]
        }
      ],
      "source": [
        "y_hat = (H.T @ query_results) / n\n",
        "\n",
        "guess = np.where(y_hat >= 0, 1, -1).astype(int)\n",
        "\n",
        "best_query_result = query(challenge_id, guess, submit=True)\n",
        "print(f\"\\nReconstruction attack achieves fraction {(1 + best_query_result / n) / 2} correct values\")"
      ]
    }
  ],
  "metadata": {
    "colab": {
      "provenance": []
    },
    "kernelspec": {
      "display_name": ".venv",
      "language": "python",
      "name": "python3"
    },
    "language_info": {
      "codemirror_mode": {
        "name": "ipython",
        "version": 3
      },
      "file_extension": ".py",
      "mimetype": "text/x-python",
      "name": "python",
      "nbconvert_exporter": "python",
      "pygments_lexer": "ipython3",
      "version": "3.10.8"
    }
  },
  "nbformat": 4,
  "nbformat_minor": 0
}
